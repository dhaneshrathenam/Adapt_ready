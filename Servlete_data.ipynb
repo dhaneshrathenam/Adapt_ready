{
 "cells": [
  {
   "cell_type": "code",
   "execution_count": 7,
   "id": "850fb7cb-1c2c-4c99-84e6-6ea8d5d03e0d",
   "metadata": {},
   "outputs": [],
   "source": [
    "import json\n",
    "import csv\n",
    "import pandas as pd"
   ]
  },
  {
   "cell_type": "code",
   "execution_count": 9,
   "id": "fd8bc87a-d2b2-4751-9067-1a3fdd5cc1b5",
   "metadata": {},
   "outputs": [],
   "source": [
    "#read the file\n",
    "json_file = open(\"C:\\\\Users\\\\Dhanesh\\\\Downloads\\\\Adapt Ready\\\\DT_A1_sample_json.json\", \"r\")\n",
    "data = json.load(json_file)\n"
   ]
  },
  {
   "cell_type": "code",
   "execution_count": 11,
   "id": "12056923-4465-4af8-8961-907f6c3cba3f",
   "metadata": {},
   "outputs": [
    {
     "name": "stdout",
     "output_type": "stream",
     "text": [
      "Data has been stored in servlet_data.csv.\n"
     ]
    }
   ],
   "source": [
    "# Extract servlet information\n",
    "servlet_data = data[\"web-app\"][\"servlet\"]\n",
    "# Define CSV file name and fieldnames\n",
    "csv_filename = \"servlet_data.csv\"\n",
    "fieldnames = [\"servlet-name\", \"servlet-class\"]\n",
    "# Write data to CSV file\n",
    "with open(csv_filename, \"w\", newline=\"\") as csv_file:\n",
    "    writer = csv.DictWriter(csv_file, fieldnames=fieldnames)\n",
    "    writer.writeheader()\n",
    "    for servlet in servlet_data:\n",
    "        writer.writerow({fieldnames[0]: servlet[\"servlet-name\"], fieldnames[1]: servlet[\"servlet-class\"]})\n",
    "\n",
    "print(f\"Data has been stored in {csv_filename}.\")"
   ]
  },
  {
   "cell_type": "code",
   "execution_count": 12,
   "id": "2d1b068c-a4e6-481e-b06c-e24b5e64bc80",
   "metadata": {},
   "outputs": [
    {
     "name": "stdout",
     "output_type": "stream",
     "text": [
      "Servlet Name: cofaxCDS, Servlet Class: org.cofax.cds.CDSServlet\n",
      "Servlet Name: cofaxEmail, Servlet Class: org.cofax.cds.EmailServlet\n",
      "Servlet Name: cofaxAdmin, Servlet Class: org.cofax.cds.AdminServlet\n",
      "Servlet Name: fileServlet, Servlet Class: org.cofax.cds.FileServlet\n",
      "Servlet Name: cofaxTools, Servlet Class: org.cofax.cms.CofaxToolsServlet\n"
     ]
    }
   ],
   "source": [
    "# Open the CSV file for reading\n",
    "with open(\"servlet_data.csv\", \"r\", newline=\"\") as csv_file:\n",
    "    reader = csv.DictReader(csv_file)\n",
    "    # Iterate over each row in the CSV file\n",
    "    for row in reader:\n",
    "        # Access the data in each row using the column names\n",
    "        servlet_name = row[\"servlet-name\"]\n",
    "        servlet_class = row[\"servlet-class\"]\n",
    "        # Print or process the data as needed\n",
    "        print(f\"Servlet Name: {servlet_name}, Servlet Class: {servlet_class}\")\n",
    "\n"
   ]
  }
 ],
 "metadata": {
  "kernelspec": {
   "display_name": "Python 3 (ipykernel)",
   "language": "python",
   "name": "python3"
  },
  "language_info": {
   "codemirror_mode": {
    "name": "ipython",
    "version": 3
   },
   "file_extension": ".py",
   "mimetype": "text/x-python",
   "name": "python",
   "nbconvert_exporter": "python",
   "pygments_lexer": "ipython3",
   "version": "3.8.6"
  }
 },
 "nbformat": 4,
 "nbformat_minor": 5
}
